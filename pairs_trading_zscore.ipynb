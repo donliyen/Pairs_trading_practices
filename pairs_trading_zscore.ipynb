{
 "cells": [
  {
   "cell_type": "code",
   "execution_count": 1,
   "metadata": {},
   "outputs": [],
   "source": [
    "import pandas as pd\n",
    "import numpy as np\n",
    "import matplotlib.pyplot as plt\n",
    "import seaborn as sns\n",
    "import sqlalchemy\n"
   ]
  },
  {
   "cell_type": "code",
   "execution_count": 2,
   "metadata": {},
   "outputs": [],
   "source": [
    "engine = sqlalchemy.create_engine(r\"sqlite:///D:\\alphavantage\\daily_close_adj_av.db\")"
   ]
  },
  {
   "cell_type": "code",
   "execution_count": 3,
   "metadata": {},
   "outputs": [],
   "source": [
    "b_df = pd.DataFrame( )\n",
    "# Select stock pair (example: Goldman Sachs and Caterpillar)\n",
    "stock1 = \"AMZN\"\n",
    "stock2 = \"CRM\"\n",
    "stocks = [ stock1 , stock2 ]\n",
    "for stock in stocks :\n",
    "    \n",
    "    query = f\"SELECT * FROM {stock}\"\n",
    "    df = pd.read_sql_query( query , engine  )[['index','5. adjusted close']]\n",
    "    df['index'] = pd.to_datetime( df['index'] )\n",
    "    df  =  df.set_index('index')#.resample('15min')['5. adjusted close'].last()\n",
    "    df = df[~df.index.duplicated(keep='first')]\n",
    "    b_df[f'{stock}'] = df.astype('float')\n",
    "\n",
    "b_df = b_df.dropna()"
   ]
  },
  {
   "cell_type": "code",
   "execution_count": 4,
   "metadata": {},
   "outputs": [
    {
     "data": {
      "application/vnd.microsoft.datawrangler.viewer.v0+json": {
       "columns": [
        {
         "name": "index",
         "rawType": "datetime64[ns]",
         "type": "datetime"
        },
        {
         "name": "AMZN",
         "rawType": "float64",
         "type": "float"
        },
        {
         "name": "CRM",
         "rawType": "float64",
         "type": "float"
        }
       ],
       "conversionMethod": "pd.DataFrame",
       "ref": "66841b34-1182-49a2-a9b4-bf4d646dd5fa",
       "rows": [
        [
         "2004-06-23 00:00:00",
         "2.5405",
         "4.27571317312039"
        ],
        [
         "2004-06-24 00:00:00",
         "2.551",
         "4.16633446404057"
        ],
        [
         "2004-06-25 00:00:00",
         "2.59",
         "3.92769000786641"
        ],
        [
         "2004-06-28 00:00:00",
         "2.6695",
         "3.97740760290269"
        ],
        [
         "2004-06-29 00:00:00",
         "2.6855",
         "4.07684279297526"
        ],
        [
         "2004-06-30 00:00:00",
         "2.72",
         "3.99480876116539"
        ],
        [
         "2004-07-01 00:00:00",
         "2.628",
         "3.98486524215814"
        ],
        [
         "2004-07-02 00:00:00",
         "2.6295",
         "4.22102381858048"
        ],
        [
         "2004-07-06 00:00:00",
         "2.562",
         "4.22599557808411"
        ],
        [
         "2004-07-07 00:00:00",
         "2.55",
         "4.05446987520893"
        ],
        [
         "2004-07-08 00:00:00",
         "2.475",
         "3.91277472935552"
        ],
        [
         "2004-07-09 00:00:00",
         "2.416",
         "4.07684279297526"
        ],
        [
         "2004-07-12 00:00:00",
         "2.4525",
         "4.16384858428876"
        ],
        [
         "2004-07-13 00:00:00",
         "2.48",
         "3.99729464091721"
        ],
        [
         "2004-07-14 00:00:00",
         "2.475",
         "3.8904018115892"
        ],
        [
         "2004-07-15 00:00:00",
         "2.4335",
         "3.81333953928296"
        ],
        [
         "2004-07-16 00:00:00",
         "2.355",
         "3.97740760290269"
        ],
        [
         "2004-07-19 00:00:00",
         "2.301",
         "3.97989348265451"
        ],
        [
         "2004-07-20 00:00:00",
         "2.3495",
         "3.99232288141358"
        ],
        [
         "2004-07-21 00:00:00",
         "2.238",
         "2.90847930962259"
        ],
        [
         "2004-07-22 00:00:00",
         "2.291",
         "3.22667191785481"
        ],
        [
         "2004-07-23 00:00:00",
         "1.999",
         "3.24158719636569"
        ],
        [
         "2004-07-26 00:00:00",
         "1.939",
         "3.30124831040923"
        ],
        [
         "2004-07-27 00:00:00",
         "1.9555",
         "3.26644599388384"
        ],
        [
         "2004-07-28 00:00:00",
         "1.8985",
         "3.22915779760662"
        ],
        [
         "2004-07-29 00:00:00",
         "1.929",
         "3.22170015835118"
        ],
        [
         "2004-07-30 00:00:00",
         "1.946",
         "3.23412955711025"
        ],
        [
         "2004-08-02 00:00:00",
         "1.915",
         "3.18441196207397"
        ],
        [
         "2004-08-03 00:00:00",
         "1.8805",
         "3.0153721389506"
        ],
        [
         "2004-08-04 00:00:00",
         "1.856",
         "2.97808394267339"
        ],
        [
         "2004-08-05 00:00:00",
         "1.7805",
         "2.70960892947746"
        ],
        [
         "2004-08-06 00:00:00",
         "1.7745",
         "2.67729249270387"
        ],
        [
         "2004-08-09 00:00:00",
         "1.766",
         "2.73198184724379"
        ],
        [
         "2004-08-10 00:00:00",
         "1.855",
         "2.7344677269956"
        ],
        [
         "2004-08-11 00:00:00",
         "1.828",
         "2.64000429642666"
        ],
        [
         "2004-08-12 00:00:00",
         "1.8145",
         "2.48339387206237"
        ],
        [
         "2004-08-13 00:00:00",
         "1.8065",
         "2.3839586819898"
        ],
        [
         "2004-08-16 00:00:00",
         "1.8975",
         "2.41627511876339"
        ],
        [
         "2004-08-17 00:00:00",
         "1.9115",
         "2.72701008774016"
        ],
        [
         "2004-08-18 00:00:00",
         "1.968",
         "2.97062630341795"
        ],
        [
         "2004-08-19 00:00:00",
         "1.9315",
         "3.02531565795786"
        ],
        [
         "2004-08-20 00:00:00",
         "1.9755",
         "3.13220848728587"
        ],
        [
         "2004-08-23 00:00:00",
         "1.9725",
         "3.10734968976773"
        ],
        [
         "2004-08-24 00:00:00",
         "1.9525",
         "3.17446844306671"
        ],
        [
         "2004-08-25 00:00:00",
         "2.015",
         "3.22170015835118"
        ],
        [
         "2004-08-26 00:00:00",
         "2.0095",
         "3.2067848798403"
        ],
        [
         "2004-08-27 00:00:00",
         "1.995",
         "3.26893187363565"
        ],
        [
         "2004-08-30 00:00:00",
         "1.9155",
         "3.27390363313928"
        ],
        [
         "2004-08-31 00:00:00",
         "1.907",
         "3.23164367735844"
        ],
        [
         "2004-09-01 00:00:00",
         "1.912",
         "3.31367770916831"
        ]
       ],
       "shape": {
        "columns": 2,
        "rows": 5216
       }
      },
      "text/html": [
       "<div>\n",
       "<style scoped>\n",
       "    .dataframe tbody tr th:only-of-type {\n",
       "        vertical-align: middle;\n",
       "    }\n",
       "\n",
       "    .dataframe tbody tr th {\n",
       "        vertical-align: top;\n",
       "    }\n",
       "\n",
       "    .dataframe thead th {\n",
       "        text-align: right;\n",
       "    }\n",
       "</style>\n",
       "<table border=\"1\" class=\"dataframe\">\n",
       "  <thead>\n",
       "    <tr style=\"text-align: right;\">\n",
       "      <th></th>\n",
       "      <th>AMZN</th>\n",
       "      <th>CRM</th>\n",
       "    </tr>\n",
       "    <tr>\n",
       "      <th>index</th>\n",
       "      <th></th>\n",
       "      <th></th>\n",
       "    </tr>\n",
       "  </thead>\n",
       "  <tbody>\n",
       "    <tr>\n",
       "      <th>2004-06-23</th>\n",
       "      <td>2.5405</td>\n",
       "      <td>4.275713</td>\n",
       "    </tr>\n",
       "    <tr>\n",
       "      <th>2004-06-24</th>\n",
       "      <td>2.5510</td>\n",
       "      <td>4.166334</td>\n",
       "    </tr>\n",
       "    <tr>\n",
       "      <th>2004-06-25</th>\n",
       "      <td>2.5900</td>\n",
       "      <td>3.927690</td>\n",
       "    </tr>\n",
       "    <tr>\n",
       "      <th>2004-06-28</th>\n",
       "      <td>2.6695</td>\n",
       "      <td>3.977408</td>\n",
       "    </tr>\n",
       "    <tr>\n",
       "      <th>2004-06-29</th>\n",
       "      <td>2.6855</td>\n",
       "      <td>4.076843</td>\n",
       "    </tr>\n",
       "    <tr>\n",
       "      <th>...</th>\n",
       "      <td>...</td>\n",
       "      <td>...</td>\n",
       "    </tr>\n",
       "    <tr>\n",
       "      <th>2025-03-10</th>\n",
       "      <td>194.5400</td>\n",
       "      <td>272.900000</td>\n",
       "    </tr>\n",
       "    <tr>\n",
       "      <th>2025-03-11</th>\n",
       "      <td>196.5900</td>\n",
       "      <td>277.050000</td>\n",
       "    </tr>\n",
       "    <tr>\n",
       "      <th>2025-03-12</th>\n",
       "      <td>198.8900</td>\n",
       "      <td>284.580000</td>\n",
       "    </tr>\n",
       "    <tr>\n",
       "      <th>2025-03-13</th>\n",
       "      <td>193.8900</td>\n",
       "      <td>271.740000</td>\n",
       "    </tr>\n",
       "    <tr>\n",
       "      <th>2025-03-14</th>\n",
       "      <td>197.9500</td>\n",
       "      <td>279.400000</td>\n",
       "    </tr>\n",
       "  </tbody>\n",
       "</table>\n",
       "<p>5216 rows × 2 columns</p>\n",
       "</div>"
      ],
      "text/plain": [
       "                AMZN         CRM\n",
       "index                           \n",
       "2004-06-23    2.5405    4.275713\n",
       "2004-06-24    2.5510    4.166334\n",
       "2004-06-25    2.5900    3.927690\n",
       "2004-06-28    2.6695    3.977408\n",
       "2004-06-29    2.6855    4.076843\n",
       "...              ...         ...\n",
       "2025-03-10  194.5400  272.900000\n",
       "2025-03-11  196.5900  277.050000\n",
       "2025-03-12  198.8900  284.580000\n",
       "2025-03-13  193.8900  271.740000\n",
       "2025-03-14  197.9500  279.400000\n",
       "\n",
       "[5216 rows x 2 columns]"
      ]
     },
     "execution_count": 4,
     "metadata": {},
     "output_type": "execute_result"
    }
   ],
   "source": [
    "b_df"
   ]
  },
  {
   "cell_type": "code",
   "execution_count": 5,
   "metadata": {},
   "outputs": [
    {
     "data": {
      "text/plain": [
       "[<matplotlib.lines.Line2D at 0x14407c92870>,\n",
       " <matplotlib.lines.Line2D at 0x14407c912b0>]"
      ]
     },
     "execution_count": 5,
     "metadata": {},
     "output_type": "execute_result"
    },
    {
     "data": {
      "image/png": "[encoded data removed]",
      "text/plain": [
       "<Figure size 640x480 with 1 Axes>"
      ]
     },
     "metadata": {},
     "output_type": "display_data"
    }
   ],
   "source": [
    "plt.plot(b_df)"
   ]
  },
  {
   "cell_type": "code",
   "execution_count": 6,
   "metadata": {},
   "outputs": [],
   "source": [
    "import numpy as np\n",
    "import pandas as pd\n",
    "import yfinance as yf\n",
    "import statsmodels.api as sm\n",
    "from statsmodels.tsa.stattools import adfuller\n",
    "import matplotlib.pyplot as plt\n",
    "\n",
    "# Function to check cointegration\n",
    "def cointegration_test(series1, series2):\n",
    "\n",
    "    X = sm.add_constant(series1)\n",
    "    model = sm.OLS(series2, X).fit()\n",
    "    residuals = model.resid\n",
    "    p_value = adfuller(residuals)[1]  # ADF test on residuals\n",
    "    hedge_ratio = model.params[1]  # Beta coefficient (hedge ratio)\n",
    "    \n",
    "    return p_value, hedge_ratio, residuals\n",
    "\n",
    "# Function to estimate Ornstein-Uhlenbeck parameters\n",
    "def estimate_ou_params(spread):\n",
    "    \n",
    "    spread_diff = np.diff(spread)\n",
    "    spread_lag = spread[:-1]\n",
    "    \n",
    "    # Estimate mean-reversion speed (theta) using linear regression\n",
    "    theta, intercept = np.polyfit(spread_lag, spread_diff, 1)\n",
    "\n",
    "    long_term_mean = -intercept / theta\n",
    "    variance = np.var(spread_diff)\n",
    "    sigma = np.sqrt(variance)\n",
    "    \n",
    "    return theta, long_term_mean, sigma"
   ]
  },
  {
   "cell_type": "code",
   "execution_count": 7,
   "metadata": {},
   "outputs": [
    {
     "name": "stderr",
     "output_type": "stream",
     "text": [
      "C:\\Users\\zig53\\AppData\\Local\\Temp\\ipykernel_10112\\1402537219.py:4: FutureWarning: Series.__getitem__ treating keys as positions is deprecated. In a future version, integer keys will always be treated as labels (consistent with DataFrame behavior). To access a value by position, use `ser.iloc[pos]`\n",
      "  return model.params[1]\n"
     ]
    }
   ],
   "source": [
    "def get_hedge_ratio(A_prices, B_prices):\n",
    "    B_prices = sm.add_constant(B_prices)  # Add intercept\n",
    "    model = sm.OLS(A_prices, B_prices).fit()\n",
    "    return model.params[1]\n",
    "b_df['Hedge_Ratio'] = get_hedge_ratio( b_df[stock1] , b_df[stock2]  )"
   ]
  },
  {
   "cell_type": "code",
   "execution_count": 8,
   "metadata": {},
   "outputs": [
    {
     "data": {
      "text/plain": [
       "[<matplotlib.lines.Line2D at 0x14409cbbbf0>]"
      ]
     },
     "execution_count": 8,
     "metadata": {},
     "output_type": "execute_result"
    },
    {
     "data": {
      "image/png": "[encoded data removed]",
      "text/plain": [
       "<Figure size 640x480 with 1 Axes>"
      ]
     },
     "metadata": {},
     "output_type": "display_data"
    }
   ],
   "source": [
    "b_df['spread'] = b_df[f'{stock1}'] - b_df[f'{stock2}'] * b_df['Hedge_Ratio']\n",
    "plt.plot(b_df['spread'])"
   ]
  },
  {
   "cell_type": "code",
   "execution_count": 9,
   "metadata": {},
   "outputs": [
    {
     "data": {
      "text/plain": [
       "[<matplotlib.lines.Line2D at 0x14409ebba70>]"
      ]
     },
     "execution_count": 9,
     "metadata": {},
     "output_type": "execute_result"
    },
    {
     "data": {
      "image/png": "[encoded data removed]",
      "text/plain": [
       "<Figure size 640x480 with 1 Axes>"
      ]
     },
     "metadata": {},
     "output_type": "display_data"
    }
   ],
   "source": [
    "plt.plot( b_df['Hedge_Ratio'] )"
   ]
  },
  {
   "cell_type": "code",
   "execution_count": 10,
   "metadata": {},
   "outputs": [
    {
     "data": {
      "text/plain": [
       "[<matplotlib.lines.Line2D at 0x14409f19c10>]"
      ]
     },
     "execution_count": 10,
     "metadata": {},
     "output_type": "execute_result"
    },
    {
     "data": {
      "image/png": "[encoded data removed]",
      "text/plain": [
       "<Figure size 640x480 with 1 Axes>"
      ]
     },
     "metadata": {},
     "output_type": "display_data"
    }
   ],
   "source": [
    "window = 22\n",
    "b_df['z_score'] = ( b_df['spread'] - b_df['spread'].rolling(window).mean()  )/b_df['spread'].rolling(window).std()\n",
    "plt.plot( b_df['z_score'] )"
   ]
  },
  {
   "cell_type": "code",
   "execution_count": 11,
   "metadata": {},
   "outputs": [],
   "source": [
    "b_df['long_threshold'] = 2\n",
    "b_df['short_threshold'] = -2\n",
    "b_df['size_1'] = 1\n",
    "b_df['size_2'] = b_df['Hedge_Ratio']\n",
    "b_df.loc[ b_df['z_score'] >= b_df['long_threshold'] , 'position' ] = 1\n",
    "b_df.loc[ b_df['z_score'] <= b_df['short_threshold'] , 'position' ] = -1\n",
    "b_df.loc[(b_df['z_score'] > -0.5) & (b_df['z_score'] < 0.5)  , 'position' ] = 0\n",
    "b_df['position'] = b_df['position'] * np.sign(b_df['Hedge_Ratio'])\n",
    "b_df.loc[ ((b_df['position'] == 1) | (b_df['position'] == -1))  , 'action' ] = True\n",
    "b_df.loc[ ( b_df['position'] == 0 ) , 'action' ] = False"
   ]
  },
  {
   "cell_type": "code",
   "execution_count": 12,
   "metadata": {},
   "outputs": [
    {
     "data": {
      "application/vnd.microsoft.datawrangler.viewer.v0+json": {
       "columns": [
        {
         "name": "index",
         "rawType": "datetime64[ns]",
         "type": "datetime"
        },
        {
         "name": "AMZN",
         "rawType": "float64",
         "type": "float"
        },
        {
         "name": "CRM",
         "rawType": "float64",
         "type": "float"
        },
        {
         "name": "Hedge_Ratio",
         "rawType": "float64",
         "type": "float"
        },
        {
         "name": "spread",
         "rawType": "float64",
         "type": "float"
        },
        {
         "name": "z_score",
         "rawType": "float64",
         "type": "float"
        },
        {
         "name": "long_threshold",
         "rawType": "int64",
         "type": "integer"
        },
        {
         "name": "short_threshold",
         "rawType": "int64",
         "type": "integer"
        },
        {
         "name": "size_1",
         "rawType": "int64",
         "type": "integer"
        },
        {
         "name": "size_2",
         "rawType": "float64",
         "type": "float"
        },
        {
         "name": "position",
         "rawType": "float64",
         "type": "float"
        },
        {
         "name": "action",
         "rawType": "object",
         "type": "unknown"
        }
       ],
       "conversionMethod": "pd.DataFrame",
       "ref": "365a23d8-7b74-46a2-ab9a-40e76902689b",
       "rows": [
        [
         "2004-07-23 00:00:00",
         "1.999",
         "3.24158719636569",
         "0.6893581234419551",
         "-0.23561446666012031",
         "-0.06088717598958372",
         "2",
         "-2",
         "1",
         "0.6893581234419551",
         "0.0",
         "False"
        ],
        [
         "2004-10-07 00:00:00",
         "2.0575",
         "4.59887754085624",
         "0.6893581234419551",
         "-1.1127735915040105",
         "-2.666379756697978",
         "2",
         "-2",
         "1",
         "0.6893581234419551",
         "-1.0",
         "True"
        ],
        [
         "2004-11-09 00:00:00",
         "1.87",
         "4.8549231552931",
         "0.6893581234419551",
         "-1.4767807157877466",
         "-0.06625161047574045",
         "2",
         "-2",
         "1",
         "0.6893581234419551",
         "0.0",
         "False"
        ],
        [
         "2004-11-18 00:00:00",
         "2.0185",
         "4.42983771773287",
         "0.6893581234419551",
         "-1.0352446162487245",
         "2.0421875790228032",
         "2",
         "-2",
         "1",
         "0.6893581234419551",
         "1.0",
         "True"
        ],
        [
         "2004-12-22 00:00:00",
         "1.976",
         "4.03955459669805",
         "0.6893581234419551",
         "-0.8086997763210917",
         "0.49651662318303946",
         "2",
         "-2",
         "1",
         "0.6893581234419551",
         "0.0",
         "False"
        ],
        [
         "2005-01-05 00:00:00",
         "2.0885",
         "4.46215415450646",
         "0.6893581234419551",
         "-0.9875222144592972",
         "-2.4409825130149048",
         "2",
         "-2",
         "1",
         "0.6893581234419551",
         "-1.0",
         "True"
        ],
        [
         "2005-01-10 00:00:00",
         "2.092",
         "4.22102381858048",
         "0.6893581234419551",
         "-0.8177970585804348",
         "-0.36918089604878845",
         "2",
         "-2",
         "1",
         "0.6893581234419551",
         "0.0",
         "False"
        ],
        [
         "2005-01-12 00:00:00",
         "2.115",
         "3.75367842523942",
         "0.6893581234419551",
         "-0.47262871522759964",
         "2.4325867492059485",
         "2",
         "-2",
         "1",
         "0.6893581234419551",
         "1.0",
         "True"
        ],
        [
         "2005-02-03 00:00:00",
         "1.7875",
         "3.32362122817556",
         "0.6893581234419551",
         "-0.5036652928869501",
         "-0.11626861872387917",
         "2",
         "-2",
         "1",
         "0.6893581234419551",
         "0.0",
         "False"
        ],
        [
         "2005-02-18 00:00:00",
         "1.7655",
         "3.96497820414362",
         "0.6893581234419551",
         "-0.9677899342966991",
         "-2.6550881385553406",
         "2",
         "-2",
         "1",
         "0.6893581234419551",
         "-1.0",
         "True"
        ],
        [
         "2005-03-10 00:00:00",
         "1.7455",
         "3.85062773556017",
         "0.6893581234419551",
         "-0.9089615098593036",
         "-0.21685029422026839",
         "2",
         "-2",
         "1",
         "0.6893581234419551",
         "0.0",
         "False"
        ],
        [
         "2005-04-25 00:00:00",
         "1.6765",
         "3.48023165253986",
         "0.6893581234419551",
         "-0.7226259611381722",
         "2.3513584998507517",
         "2",
         "-2",
         "1",
         "0.6893581234419551",
         "1.0",
         "True"
        ],
        [
         "2005-04-26 00:00:00",
         "1.6355",
         "3.57718096286061",
         "0.6893581234419551",
         "-0.8304587557698766",
         "0.39856744100213476",
         "2",
         "-2",
         "1",
         "0.6893581234419551",
         "0.0",
         "False"
        ],
        [
         "2005-05-19 00:00:00",
         "1.7795",
         "4.4000071607111",
         "0.6893581234419551",
         "-1.2536806794389688",
         "-3.6765209984944907",
         "2",
         "-2",
         "1",
         "0.6893581234419551",
         "-1.0",
         "True"
        ],
        [
         "2005-06-16 00:00:00",
         "1.779",
         "4.92949954784752",
         "0.6893581234419551",
         "-1.6191905578121326",
         "-0.21181245578342114",
         "2",
         "-2",
         "1",
         "0.6893581234419551",
         "0.0",
         "False"
        ],
        [
         "2005-06-28 00:00:00",
         "1.6855",
         "5.1358275672481",
         "0.6893581234419551",
         "-1.854924454079612",
         "-2.1477124664686085",
         "2",
         "-2",
         "1",
         "0.6893581234419551",
         "-1.0",
         "True"
        ],
        [
         "2005-07-01 00:00:00",
         "1.6455",
         "4.85243727554129",
         "0.6893581234419551",
         "-1.6995670543869374",
         "0.32666556729434343",
         "2",
         "-2",
         "1",
         "0.6893581234419551",
         "0.0",
         "False"
        ],
        [
         "2005-07-14 00:00:00",
         "1.8595",
         "5.63548939736275",
         "0.6893581234419551",
         "-2.0253703956430194",
         "-2.672230062237148",
         "2",
         "-2",
         "1",
         "0.6893581234419551",
         "-1.0",
         "True"
        ],
        [
         "2005-07-28 00:00:00",
         "2.284",
         "5.91887968906957",
         "0.6893581234419551",
         "-1.7962277953357013",
         "0.20045343127138382",
         "2",
         "-2",
         "1",
         "0.6893581234419551",
         "0.0",
         "False"
        ],
        [
         "2005-08-15 00:00:00",
         "2.252",
         "5.5037377705166",
         "0.6893581234419551",
         "-1.5420463413999332",
         "2.4592300768674473",
         "2",
         "-2",
         "1",
         "0.6893581234419551",
         "1.0",
         "True"
        ],
        [
         "2005-09-06 00:00:00",
         "2.181",
         "5.06373705444549",
         "0.6893581234419551",
         "-1.3097282734560358",
         "0.4961945995004855",
         "2",
         "-2",
         "1",
         "0.6893581234419551",
         "0.0",
         "False"
        ],
        [
         "2005-09-13 00:00:00",
         "2.1965",
         "5.8716479737851",
         "0.6893581234419551",
         "-1.851168228720255",
         "-2.207372298589517",
         "2",
         "-2",
         "1",
         "0.6893581234419551",
         "-1.0",
         "True"
        ],
        [
         "2005-09-29 00:00:00",
         "2.2395",
         "5.70012227090992",
         "0.6893581234419551",
         "-1.6899255920641578",
         "-0.16906602004619292",
         "2",
         "-2",
         "1",
         "0.6893581234419551",
         "0.0",
         "False"
        ],
        [
         "2005-10-12 00:00:00",
         "2.1275",
         "5.26509331434244",
         "0.6893581234419551",
         "-1.5020348469218887",
         "2.4819355287477767",
         "2",
         "-2",
         "1",
         "0.6893581234419551",
         "1.0",
         "True"
        ],
        [
         "2005-11-16 00:00:00",
         "2.265",
         "6.69447417163559",
         "0.6893581234419551",
         "-2.349890152389347",
         "-0.24345366670703872",
         "2",
         "-2",
         "1",
         "0.6893581234419551",
         "0.0",
         "False"
        ],
        [
         "2005-11-23 00:00:00",
         "2.412",
         "7.81063418020016",
         "0.6893581234419551",
         "-2.972324121354376",
         "-2.3728212244011244",
         "2",
         "-2",
         "1",
         "0.6893581234419551",
         "-1.0",
         "True"
        ],
        [
         "2005-12-20 00:00:00",
         "2.407",
         "8.23323373800857",
         "0.6893581234419551",
         "-3.2686465594925815",
         "-0.28217627977845194",
         "2",
         "-2",
         "1",
         "0.6893581234419551",
         "0.0",
         "False"
        ],
        [
         "2006-01-04 00:00:00",
         "2.3625",
         "8.94170946727561",
         "0.6893581234419551",
         "-3.801540058724279",
         "-2.0778334089777073",
         "2",
         "-2",
         "1",
         "0.6893581234419551",
         "-1.0",
         "True"
        ],
        [
         "2006-02-02 00:00:00",
         "2.137",
         "9.81425326016239",
         "0.6893581234419551",
         "-4.628535210409636",
         "-0.4554664168001605",
         "2",
         "-2",
         "1",
         "0.6893581234419551",
         "0.0",
         "False"
        ],
        [
         "2006-02-10 00:00:00",
         "1.926",
         "8.72543792886778",
         "0.6893581234419551",
         "-4.088951516853553",
         "2.4173843551003875",
         "2",
         "-2",
         "1",
         "0.6893581234419551",
         "1.0",
         "True"
        ],
        [
         "2006-03-01 00:00:00",
         "1.856",
         "9.15052336642801",
         "0.6893581234419551",
         "-4.451987616392574",
         "-0.3513102147704864",
         "2",
         "-2",
         "1",
         "0.6893581234419551",
         "0.0",
         "False"
        ],
        [
         "2006-04-07 00:00:00",
         "1.8545",
         "8.57628514375893",
         "0.6893581234419551",
         "-4.057631832804775",
         "2.4325125601230857",
         "2",
         "-2",
         "1",
         "0.6893581234419551",
         "1.0",
         "True"
        ],
        [
         "2006-04-25 00:00:00",
         "1.7775",
         "8.73786732762685",
         "0.6893581234419551",
         "-4.246019823857616",
         "-0.12772491148099008",
         "2",
         "-2",
         "1",
         "0.6893581234419551",
         "0.0",
         "False"
        ],
        [
         "2006-05-18 00:00:00",
         "1.6305",
         "7.12453136869945",
         "0.6893581234419551",
         "-3.280853574729997",
         "2.4851466490415524",
         "2",
         "-2",
         "1",
         "0.6893581234419551",
         "1.0",
         "True"
        ],
        [
         "2006-06-01 00:00:00",
         "1.7535",
         "7.71865662938304",
         "0.6893581234419551",
         "-3.567418649524299",
         "0.27102383416259435",
         "2",
         "-2",
         "1",
         "0.6893581234419551",
         "0.0",
         "False"
        ],
        [
         "2006-06-08 00:00:00",
         "1.6775",
         "6.42599915843966",
         "0.6893581234419551",
         "-2.7523147211015466",
         "2.1305468648311137",
         "2",
         "-2",
         "1",
         "0.6893581234419551",
         "1.0",
         "True"
        ],
        [
         "2006-06-16 00:00:00",
         "1.7545",
         "6.89583043153254",
         "0.6893581234419551",
         "-2.9991967258551986",
         "0.4512993110646782",
         "2",
         "-2",
         "1",
         "0.6893581234419551",
         "0.0",
         "False"
        ],
        [
         "2006-07-10 00:00:00",
         "1.7895",
         "5.81695861924519",
         "0.6893581234419551",
         "-2.22046767790237",
         "2.750215004703485",
         "2",
         "-2",
         "1",
         "0.6893581234419551",
         "1.0",
         "True"
        ],
        [
         "2006-07-25 00:00:00",
         "1.6795",
         "6.09786303120019",
         "0.6893581234419551",
         "-2.524111416194235",
         "-0.3049170522474863",
         "2",
         "-2",
         "1",
         "0.6893581234419551",
         "0.0",
         "False"
        ],
        [
         "2006-08-17 00:00:00",
         "1.4545",
         "8.3774147636138",
         "0.6893581234419551",
         "-4.3205389207397396",
         "-2.6893837335479533",
         "2",
         "-2",
         "1",
         "0.6893581234419551",
         "-1.0",
         "True"
        ],
        [
         "2006-09-06 00:00:00",
         "1.54",
         "8.26803605453397",
         "0.6893581234419551",
         "-4.159637819103964",
         "-0.4293621108013712",
         "2",
         "-2",
         "1",
         "0.6893581234419551",
         "0.0",
         "False"
        ],
        [
         "2006-09-21 00:00:00",
         "1.511",
         "9.14555160692438",
         "0.6893581234419551",
         "-4.793560293590948",
         "-3.2294185900243986",
         "2",
         "-2",
         "1",
         "0.6893581234419551",
         "-1.0",
         "True"
        ],
        [
         "2006-09-29 00:00:00",
         "1.606",
         "8.91933654950929",
         "0.6893581234419551",
         "-4.542617106116967",
         "-0.2949338802390553",
         "2",
         "-2",
         "1",
         "0.6893581234419551",
         "0.0",
         "False"
        ],
        [
         "2006-10-06 00:00:00",
         "1.6295",
         "10.033010678322",
         "0.6893581234419551",
         "-5.286837413681151",
         "-2.455833674616884",
         "2",
         "-2",
         "1",
         "0.6893581234419551",
         "-1.0",
         "True"
        ],
        [
         "2006-10-25 00:00:00",
         "1.884",
         "10.274141014248",
         "0.6893581234419551",
         "-5.198562569560027",
         "-0.43794771169956576",
         "2",
         "-2",
         "1",
         "0.6893581234419551",
         "0.0",
         "False"
        ],
        [
         "2006-12-21 00:00:00",
         "1.9945",
         "9.16295276518708",
         "0.6893581234419551",
         "-4.32205592339664",
         "2.0111098917393853",
         "2",
         "-2",
         "1",
         "0.6893581234419551",
         "1.0",
         "True"
        ],
        [
         "2007-01-04 00:00:00",
         "1.945",
         "9.41651249987213",
         "0.6893581234419551",
         "-4.546349386279565",
         "-0.07058052858286308",
         "2",
         "-2",
         "1",
         "0.6893581234419551",
         "0.0",
         "False"
        ],
        [
         "2007-01-11 00:00:00",
         "1.87",
         "10.3760620840724",
         "0.6893581234419551",
         "-5.282822686993372",
         "-2.055710073736426",
         "2",
         "-2",
         "1",
         "0.6893581234419551",
         "-1.0",
         "True"
        ],
        [
         "2007-02-21 00:00:00",
         "2.063",
         "11.9322228087081",
         "0.6893581234419551",
         "-6.162574723902312",
         "-0.49034226427309435",
         "2",
         "-2",
         "1",
         "0.6893581234419551",
         "0.0",
         "False"
        ],
        [
         "2007-03-02 00:00:00",
         "1.8845",
         "10.5997912617357",
         "0.6893581234419551",
         "-5.422552213066556",
         "2.0164249977522473",
         "2",
         "-2",
         "1",
         "0.6893581234419551",
         "1.0",
         "True"
        ]
       ],
       "shape": {
        "columns": 11,
        "rows": 377
       }
      },
      "text/html": [
       "<div>\n",
       "<style scoped>\n",
       "    .dataframe tbody tr th:only-of-type {\n",
       "        vertical-align: middle;\n",
       "    }\n",
       "\n",
       "    .dataframe tbody tr th {\n",
       "        vertical-align: top;\n",
       "    }\n",
       "\n",
       "    .dataframe thead th {\n",
       "        text-align: right;\n",
       "    }\n",
       "</style>\n",
       "<table border=\"1\" class=\"dataframe\">\n",
       "  <thead>\n",
       "    <tr style=\"text-align: right;\">\n",
       "      <th></th>\n",
       "      <th>AMZN</th>\n",
       "      <th>CRM</th>\n",
       "      <th>Hedge_Ratio</th>\n",
       "      <th>spread</th>\n",
       "      <th>z_score</th>\n",
       "      <th>long_threshold</th>\n",
       "      <th>short_threshold</th>\n",
       "      <th>size_1</th>\n",
       "      <th>size_2</th>\n",
       "      <th>position</th>\n",
       "      <th>action</th>\n",
       "    </tr>\n",
       "    <tr>\n",
       "      <th>index</th>\n",
       "      <th></th>\n",
       "      <th></th>\n",
       "      <th></th>\n",
       "      <th></th>\n",
       "      <th></th>\n",
       "      <th></th>\n",
       "      <th></th>\n",
       "      <th></th>\n",
       "      <th></th>\n",
       "      <th></th>\n",
       "      <th></th>\n",
       "    </tr>\n",
       "  </thead>\n",
       "  <tbody>\n",
       "    <tr>\n",
       "      <th>2004-07-23</th>\n",
       "      <td>1.9990</td>\n",
       "      <td>3.241587</td>\n",
       "      <td>0.689358</td>\n",
       "      <td>-0.235614</td>\n",
       "      <td>-0.060887</td>\n",
       "      <td>2</td>\n",
       "      <td>-2</td>\n",
       "      <td>1</td>\n",
       "      <td>0.689358</td>\n",
       "      <td>0.0</td>\n",
       "      <td>False</td>\n",
       "    </tr>\n",
       "    <tr>\n",
       "      <th>2004-10-07</th>\n",
       "      <td>2.0575</td>\n",
       "      <td>4.598878</td>\n",
       "      <td>0.689358</td>\n",
       "      <td>-1.112774</td>\n",
       "      <td>-2.666380</td>\n",
       "      <td>2</td>\n",
       "      <td>-2</td>\n",
       "      <td>1</td>\n",
       "      <td>0.689358</td>\n",
       "      <td>-1.0</td>\n",
       "      <td>True</td>\n",
       "    </tr>\n",
       "    <tr>\n",
       "      <th>2004-11-09</th>\n",
       "      <td>1.8700</td>\n",
       "      <td>4.854923</td>\n",
       "      <td>0.689358</td>\n",
       "      <td>-1.476781</td>\n",
       "      <td>-0.066252</td>\n",
       "      <td>2</td>\n",
       "      <td>-2</td>\n",
       "      <td>1</td>\n",
       "      <td>0.689358</td>\n",
       "      <td>0.0</td>\n",
       "      <td>False</td>\n",
       "    </tr>\n",
       "    <tr>\n",
       "      <th>2004-11-18</th>\n",
       "      <td>2.0185</td>\n",
       "      <td>4.429838</td>\n",
       "      <td>0.689358</td>\n",
       "      <td>-1.035245</td>\n",
       "      <td>2.042188</td>\n",
       "      <td>2</td>\n",
       "      <td>-2</td>\n",
       "      <td>1</td>\n",
       "      <td>0.689358</td>\n",
       "      <td>1.0</td>\n",
       "      <td>True</td>\n",
       "    </tr>\n",
       "    <tr>\n",
       "      <th>2004-12-22</th>\n",
       "      <td>1.9760</td>\n",
       "      <td>4.039555</td>\n",
       "      <td>0.689358</td>\n",
       "      <td>-0.808700</td>\n",
       "      <td>0.496517</td>\n",
       "      <td>2</td>\n",
       "      <td>-2</td>\n",
       "      <td>1</td>\n",
       "      <td>0.689358</td>\n",
       "      <td>0.0</td>\n",
       "      <td>False</td>\n",
       "    </tr>\n",
       "    <tr>\n",
       "      <th>...</th>\n",
       "      <td>...</td>\n",
       "      <td>...</td>\n",
       "      <td>...</td>\n",
       "      <td>...</td>\n",
       "      <td>...</td>\n",
       "      <td>...</td>\n",
       "      <td>...</td>\n",
       "      <td>...</td>\n",
       "      <td>...</td>\n",
       "      <td>...</td>\n",
       "      <td>...</td>\n",
       "    </tr>\n",
       "    <tr>\n",
       "      <th>2024-11-27</th>\n",
       "      <td>205.7400</td>\n",
       "      <td>329.619028</td>\n",
       "      <td>0.689358</td>\n",
       "      <td>-21.485554</td>\n",
       "      <td>-0.295852</td>\n",
       "      <td>2</td>\n",
       "      <td>-2</td>\n",
       "      <td>1</td>\n",
       "      <td>0.689358</td>\n",
       "      <td>0.0</td>\n",
       "      <td>False</td>\n",
       "    </tr>\n",
       "    <tr>\n",
       "      <th>2025-01-21</th>\n",
       "      <td>230.7100</td>\n",
       "      <td>326.840000</td>\n",
       "      <td>0.689358</td>\n",
       "      <td>5.400191</td>\n",
       "      <td>2.014373</td>\n",
       "      <td>2</td>\n",
       "      <td>-2</td>\n",
       "      <td>1</td>\n",
       "      <td>0.689358</td>\n",
       "      <td>1.0</td>\n",
       "      <td>True</td>\n",
       "    </tr>\n",
       "    <tr>\n",
       "      <th>2025-01-27</th>\n",
       "      <td>235.4200</td>\n",
       "      <td>347.100000</td>\n",
       "      <td>0.689358</td>\n",
       "      <td>-3.856205</td>\n",
       "      <td>-0.172643</td>\n",
       "      <td>2</td>\n",
       "      <td>-2</td>\n",
       "      <td>1</td>\n",
       "      <td>0.689358</td>\n",
       "      <td>0.0</td>\n",
       "      <td>False</td>\n",
       "    </tr>\n",
       "    <tr>\n",
       "      <th>2025-02-06</th>\n",
       "      <td>238.8300</td>\n",
       "      <td>330.810000</td>\n",
       "      <td>0.689358</td>\n",
       "      <td>10.783439</td>\n",
       "      <td>2.155480</td>\n",
       "      <td>2</td>\n",
       "      <td>-2</td>\n",
       "      <td>1</td>\n",
       "      <td>0.689358</td>\n",
       "      <td>1.0</td>\n",
       "      <td>True</td>\n",
       "    </tr>\n",
       "    <tr>\n",
       "      <th>2025-02-12</th>\n",
       "      <td>228.9300</td>\n",
       "      <td>326.120000</td>\n",
       "      <td>0.689358</td>\n",
       "      <td>4.116529</td>\n",
       "      <td>0.448892</td>\n",
       "      <td>2</td>\n",
       "      <td>-2</td>\n",
       "      <td>1</td>\n",
       "      <td>0.689358</td>\n",
       "      <td>0.0</td>\n",
       "      <td>False</td>\n",
       "    </tr>\n",
       "  </tbody>\n",
       "</table>\n",
       "<p>377 rows × 11 columns</p>\n",
       "</div>"
      ],
      "text/plain": [
       "                AMZN         CRM  Hedge_Ratio     spread   z_score  \\\n",
       "index                                                                \n",
       "2004-07-23    1.9990    3.241587     0.689358  -0.235614 -0.060887   \n",
       "2004-10-07    2.0575    4.598878     0.689358  -1.112774 -2.666380   \n",
       "2004-11-09    1.8700    4.854923     0.689358  -1.476781 -0.066252   \n",
       "2004-11-18    2.0185    4.429838     0.689358  -1.035245  2.042188   \n",
       "2004-12-22    1.9760    4.039555     0.689358  -0.808700  0.496517   \n",
       "...              ...         ...          ...        ...       ...   \n",
       "2024-11-27  205.7400  329.619028     0.689358 -21.485554 -0.295852   \n",
       "2025-01-21  230.7100  326.840000     0.689358   5.400191  2.014373   \n",
       "2025-01-27  235.4200  347.100000     0.689358  -3.856205 -0.172643   \n",
       "2025-02-06  238.8300  330.810000     0.689358  10.783439  2.155480   \n",
       "2025-02-12  228.9300  326.120000     0.689358   4.116529  0.448892   \n",
       "\n",
       "            long_threshold  short_threshold  size_1    size_2  position action  \n",
       "index                                                                           \n",
       "2004-07-23               2               -2       1  0.689358       0.0  False  \n",
       "2004-10-07               2               -2       1  0.689358      -1.0   True  \n",
       "2004-11-09               2               -2       1  0.689358       0.0  False  \n",
       "2004-11-18               2               -2       1  0.689358       1.0   True  \n",
       "2004-12-22               2               -2       1  0.689358       0.0  False  \n",
       "...                    ...              ...     ...       ...       ...    ...  \n",
       "2024-11-27               2               -2       1  0.689358       0.0  False  \n",
       "2025-01-21               2               -2       1  0.689358       1.0   True  \n",
       "2025-01-27               2               -2       1  0.689358       0.0  False  \n",
       "2025-02-06               2               -2       1  0.689358       1.0   True  \n",
       "2025-02-12               2               -2       1  0.689358       0.0  False  \n",
       "\n",
       "[377 rows x 11 columns]"
      ]
     },
     "execution_count": 12,
     "metadata": {},
     "output_type": "execute_result"
    }
   ],
   "source": [
    "# b_df = b_df[ b_df['action'] != b_df['action'].shift(1)  ]\n",
    "b_df = b_df.dropna()#.reset_index()\n",
    "b_df = b_df[ b_df['action'] != b_df['action'].shift(1)  ]#.reset_index(drop = True)\n",
    "b_df"
   ]
  },
  {
   "cell_type": "code",
   "execution_count": 13,
   "metadata": {},
   "outputs": [
    {
     "data": {
      "application/vnd.microsoft.datawrangler.viewer.v0+json": {
       "columns": [
        {
         "name": "index",
         "rawType": "int64",
         "type": "integer"
        },
        {
         "name": "Entry Timestamp",
         "rawType": "datetime64[ns]",
         "type": "datetime"
        },
        {
         "name": "ent_1",
         "rawType": "float64",
         "type": "float"
        },
        {
         "name": "ent_2",
         "rawType": "float64",
         "type": "float"
        },
        {
         "name": "hedge_ratio",
         "rawType": "float64",
         "type": "float"
        },
        {
         "name": "spread",
         "rawType": "float64",
         "type": "float"
        },
        {
         "name": "z-score",
         "rawType": "float64",
         "type": "float"
        },
        {
         "name": "long_thershold",
         "rawType": "float64",
         "type": "float"
        },
        {
         "name": "short_therhold",
         "rawType": "float64",
         "type": "float"
        },
        {
         "name": "size_1",
         "rawType": "float64",
         "type": "float"
        },
        {
         "name": "size_2",
         "rawType": "float64",
         "type": "float"
        },
        {
         "name": "position",
         "rawType": "float64",
         "type": "float"
        },
        {
         "name": "Exit Timestamp",
         "rawType": "datetime64[ns]",
         "type": "datetime"
        },
        {
         "name": "ext_1",
         "rawType": "float64",
         "type": "float"
        },
        {
         "name": "ext_2",
         "rawType": "float64",
         "type": "float"
        }
       ],
       "conversionMethod": "pd.DataFrame",
       "ref": "c5cec1d3-0616-40e5-b8b9-4f241d7e0fca",
       "rows": [
        [
         "0",
         "2004-10-07 00:00:00",
         "2.0575",
         "4.59887754085624",
         "0.6893581234419551",
         "-1.1127735915040105",
         "-2.666379756697978",
         "2.0",
         "-2.0",
         "1.0",
         "0.6893581234419551",
         "-1.0",
         "2004-07-23 00:00:00",
         "1.999",
         "3.24158719636569"
        ],
        [
         "1",
         "2004-11-18 00:00:00",
         "2.0185",
         "4.42983771773287",
         "0.6893581234419551",
         "-1.0352446162487245",
         "2.0421875790228032",
         "2.0",
         "-2.0",
         "1.0",
         "0.6893581234419551",
         "1.0",
         "2004-11-09 00:00:00",
         "1.87",
         "4.8549231552931"
        ],
        [
         "2",
         "2005-01-05 00:00:00",
         "2.0885",
         "4.46215415450646",
         "0.6893581234419551",
         "-0.9875222144592972",
         "-2.4409825130149048",
         "2.0",
         "-2.0",
         "1.0",
         "0.6893581234419551",
         "-1.0",
         "2004-12-22 00:00:00",
         "1.976",
         "4.03955459669805"
        ],
        [
         "3",
         "2005-01-12 00:00:00",
         "2.115",
         "3.75367842523942",
         "0.6893581234419551",
         "-0.47262871522759964",
         "2.4325867492059485",
         "2.0",
         "-2.0",
         "1.0",
         "0.6893581234419551",
         "1.0",
         "2005-01-10 00:00:00",
         "2.092",
         "4.22102381858048"
        ],
        [
         "4",
         "2005-02-18 00:00:00",
         "1.7655",
         "3.96497820414362",
         "0.6893581234419551",
         "-0.9677899342966991",
         "-2.6550881385553406",
         "2.0",
         "-2.0",
         "1.0",
         "0.6893581234419551",
         "-1.0",
         "2005-02-03 00:00:00",
         "1.7875",
         "3.32362122817556"
        ],
        [
         "5",
         "2005-04-25 00:00:00",
         "1.6765",
         "3.48023165253986",
         "0.6893581234419551",
         "-0.7226259611381722",
         "2.3513584998507517",
         "2.0",
         "-2.0",
         "1.0",
         "0.6893581234419551",
         "1.0",
         "2005-03-10 00:00:00",
         "1.7455",
         "3.85062773556017"
        ],
        [
         "6",
         "2005-05-19 00:00:00",
         "1.7795",
         "4.4000071607111",
         "0.6893581234419551",
         "-1.2536806794389688",
         "-3.6765209984944907",
         "2.0",
         "-2.0",
         "1.0",
         "0.6893581234419551",
         "-1.0",
         "2005-04-26 00:00:00",
         "1.6355",
         "3.57718096286061"
        ],
        [
         "7",
         "2005-06-28 00:00:00",
         "1.6855",
         "5.1358275672481",
         "0.6893581234419551",
         "-1.854924454079612",
         "-2.1477124664686085",
         "2.0",
         "-2.0",
         "1.0",
         "0.6893581234419551",
         "-1.0",
         "2005-06-16 00:00:00",
         "1.779",
         "4.92949954784752"
        ],
        [
         "8",
         "2005-07-14 00:00:00",
         "1.8595",
         "5.63548939736275",
         "0.6893581234419551",
         "-2.0253703956430194",
         "-2.672230062237148",
         "2.0",
         "-2.0",
         "1.0",
         "0.6893581234419551",
         "-1.0",
         "2005-07-01 00:00:00",
         "1.6455",
         "4.85243727554129"
        ],
        [
         "9",
         "2005-08-15 00:00:00",
         "2.252",
         "5.5037377705166",
         "0.6893581234419551",
         "-1.5420463413999332",
         "2.4592300768674473",
         "2.0",
         "-2.0",
         "1.0",
         "0.6893581234419551",
         "1.0",
         "2005-07-28 00:00:00",
         "2.284",
         "5.91887968906957"
        ],
        [
         "10",
         "2005-09-13 00:00:00",
         "2.1965",
         "5.8716479737851",
         "0.6893581234419551",
         "-1.851168228720255",
         "-2.207372298589517",
         "2.0",
         "-2.0",
         "1.0",
         "0.6893581234419551",
         "-1.0",
         "2005-09-06 00:00:00",
         "2.181",
         "5.06373705444549"
        ],
        [
         "11",
         "2005-10-12 00:00:00",
         "2.1275",
         "5.26509331434244",
         "0.6893581234419551",
         "-1.5020348469218887",
         "2.4819355287477767",
         "2.0",
         "-2.0",
         "1.0",
         "0.6893581234419551",
         "1.0",
         "2005-09-29 00:00:00",
         "2.2395",
         "5.70012227090992"
        ],
        [
         "12",
         "2005-11-23 00:00:00",
         "2.412",
         "7.81063418020016",
         "0.6893581234419551",
         "-2.972324121354376",
         "-2.3728212244011244",
         "2.0",
         "-2.0",
         "1.0",
         "0.6893581234419551",
         "-1.0",
         "2005-11-16 00:00:00",
         "2.265",
         "6.69447417163559"
        ],
        [
         "13",
         "2006-01-04 00:00:00",
         "2.3625",
         "8.94170946727561",
         "0.6893581234419551",
         "-3.801540058724279",
         "-2.0778334089777073",
         "2.0",
         "-2.0",
         "1.0",
         "0.6893581234419551",
         "-1.0",
         "2005-12-20 00:00:00",
         "2.407",
         "8.23323373800857"
        ],
        [
         "14",
         "2006-02-10 00:00:00",
         "1.926",
         "8.72543792886778",
         "0.6893581234419551",
         "-4.088951516853553",
         "2.4173843551003875",
         "2.0",
         "-2.0",
         "1.0",
         "0.6893581234419551",
         "1.0",
         "2006-02-02 00:00:00",
         "2.137",
         "9.81425326016239"
        ],
        [
         "15",
         "2006-04-07 00:00:00",
         "1.8545",
         "8.57628514375893",
         "0.6893581234419551",
         "-4.057631832804775",
         "2.4325125601230857",
         "2.0",
         "-2.0",
         "1.0",
         "0.6893581234419551",
         "1.0",
         "2006-03-01 00:00:00",
         "1.856",
         "9.15052336642801"
        ],
        [
         "16",
         "2006-05-18 00:00:00",
         "1.6305",
         "7.12453136869945",
         "0.6893581234419551",
         "-3.280853574729997",
         "2.4851466490415524",
         "2.0",
         "-2.0",
         "1.0",
         "0.6893581234419551",
         "1.0",
         "2006-04-25 00:00:00",
         "1.7775",
         "8.73786732762685"
        ],
        [
         "17",
         "2006-06-08 00:00:00",
         "1.6775",
         "6.42599915843966",
         "0.6893581234419551",
         "-2.7523147211015466",
         "2.1305468648311137",
         "2.0",
         "-2.0",
         "1.0",
         "0.6893581234419551",
         "1.0",
         "2006-06-01 00:00:00",
         "1.7535",
         "7.71865662938304"
        ],
        [
         "18",
         "2006-07-10 00:00:00",
         "1.7895",
         "5.81695861924519",
         "0.6893581234419551",
         "-2.22046767790237",
         "2.750215004703485",
         "2.0",
         "-2.0",
         "1.0",
         "0.6893581234419551",
         "1.0",
         "2006-06-16 00:00:00",
         "1.7545",
         "6.89583043153254"
        ],
        [
         "19",
         "2006-08-17 00:00:00",
         "1.4545",
         "8.3774147636138",
         "0.6893581234419551",
         "-4.3205389207397396",
         "-2.6893837335479533",
         "2.0",
         "-2.0",
         "1.0",
         "0.6893581234419551",
         "-1.0",
         "2006-07-25 00:00:00",
         "1.6795",
         "6.09786303120019"
        ],
        [
         "20",
         "2006-09-21 00:00:00",
         "1.511",
         "9.14555160692438",
         "0.6893581234419551",
         "-4.793560293590948",
         "-3.2294185900243986",
         "2.0",
         "-2.0",
         "1.0",
         "0.6893581234419551",
         "-1.0",
         "2006-09-06 00:00:00",
         "1.54",
         "8.26803605453397"
        ],
        [
         "21",
         "2006-10-06 00:00:00",
         "1.6295",
         "10.033010678322",
         "0.6893581234419551",
         "-5.286837413681151",
         "-2.455833674616884",
         "2.0",
         "-2.0",
         "1.0",
         "0.6893581234419551",
         "-1.0",
         "2006-09-29 00:00:00",
         "1.606",
         "8.91933654950929"
        ],
        [
         "22",
         "2006-12-21 00:00:00",
         "1.9945",
         "9.16295276518708",
         "0.6893581234419551",
         "-4.32205592339664",
         "2.0111098917393853",
         "2.0",
         "-2.0",
         "1.0",
         "0.6893581234419551",
         "1.0",
         "2006-10-25 00:00:00",
         "1.884",
         "10.274141014248"
        ],
        [
         "23",
         "2007-01-11 00:00:00",
         "1.87",
         "10.3760620840724",
         "0.6893581234419551",
         "-5.282822686993372",
         "-2.055710073736426",
         "2.0",
         "-2.0",
         "1.0",
         "0.6893581234419551",
         "-1.0",
         "2007-01-04 00:00:00",
         "1.945",
         "9.41651249987213"
        ],
        [
         "24",
         "2007-03-02 00:00:00",
         "1.8845",
         "10.5997912617357",
         "0.6893581234419551",
         "-5.422552213066556",
         "2.0164249977522473",
         "2.0",
         "-2.0",
         "1.0",
         "0.6893581234419551",
         "1.0",
         "2007-02-21 00:00:00",
         "2.063",
         "11.9322228087081"
        ],
        [
         "25",
         "2007-04-03 00:00:00",
         "2.0595",
         "11.1541424463902",
         "0.6893581234419551",
         "-5.629698705447807",
         "-2.2969387135797903",
         "2.0",
         "-2.0",
         "1.0",
         "0.6893581234419551",
         "-1.0",
         "2007-03-20 00:00:00",
         "1.929",
         "10.7191134898228"
        ],
        [
         "26",
         "2007-04-18 00:00:00",
         "2.2495",
         "10.5202431096776",
         "0.6893581234419551",
         "-5.002715048240509",
         "2.0446372232121797",
         "2.0",
         "-2.0",
         "1.0",
         "0.6893581234419551",
         "1.0",
         "2007-04-11 00:00:00",
         "2.084",
         "10.8980968319534"
        ],
        [
         "27",
         "2007-05-30 00:00:00",
         "3.493",
         "12.1112061508387",
         "0.6893581234419551",
         "-4.855958344760831",
         "-2.100035885367565",
         "2.0",
         "-2.0",
         "1.0",
         "0.6893581234419551",
         "-1.0",
         "2007-05-14 00:00:00",
         "3.085",
         "10.7265711290782"
        ],
        [
         "28",
         "2007-06-21 00:00:00",
         "3.4835",
         "10.4183220398532",
         "0.6893581234419551",
         "-3.698454930807164",
         "2.5980531967637606",
         "2.0",
         "-2.0",
         "1.0",
         "0.6893581234419551",
         "1.0",
         "2007-06-04 00:00:00",
         "3.521",
         "11.6985501120375"
        ],
        [
         "29",
         "2007-07-25 00:00:00",
         "4.308995",
         "10.8210345596471",
         "0.6893581234419551",
         "-3.1505730777388674",
         "3.544448678112931",
         "2.0",
         "-2.0",
         "1.0",
         "0.6893581234419551",
         "1.0",
         "2007-06-27 00:00:00",
         "3.407",
         "10.9179838699679"
        ],
        [
         "30",
         "2007-10-01 00:00:00",
         "4.6705",
         "13.1478180073452",
         "0.6893581234419551",
         "-4.393055148899832",
         "-2.124903888566879",
         "2.0",
         "-2.0",
         "1.0",
         "0.6893581234419551",
         "-1.0",
         "2007-08-16 00:00:00",
         "3.6395",
         "10.2542539762335"
        ],
        [
         "31",
         "2007-11-16 00:00:00",
         "3.93",
         "14.2565203766543",
         "0.6893581234419551",
         "-5.897848133662404",
         "-3.056728992860192",
         "2.0",
         "-2.0",
         "1.0",
         "0.6893581234419551",
         "-1.0",
         "2007-10-19 00:00:00",
         "4.488",
         "12.9961793424845"
        ],
        [
         "32",
         "2007-12-20 00:00:00",
         "4.529",
         "16.1557325070404",
         "0.6893581234419551",
         "-6.608085443883564",
         "-2.738609952014358",
         "2.0",
         "-2.0",
         "1.0",
         "0.6893581234419551",
         "-1.0",
         "2007-11-26 00:00:00",
         "4.065175",
         "12.9514335069519"
        ],
        [
         "33",
         "2008-02-28 00:00:00",
         "3.3925",
         "15.3279345496862",
         "0.6893581234419551",
         "-7.173936197412788",
         "-3.6805462684851817",
         "2.0",
         "-2.0",
         "1.0",
         "0.6893581234419551",
         "-1.0",
         "2008-01-02 00:00:00",
         "4.8125",
         "14.9848831439359"
        ],
        [
         "34",
         "2008-04-04 00:00:00",
         "3.8435",
         "16.188048943814",
         "0.6893581234419551",
         "-7.315863042094142",
         "-2.4603623377966217",
         "2.0",
         "-2.0",
         "1.0",
         "0.6893581234419551",
         "-1.0",
         "2008-03-14 00:00:00",
         "3.411",
         "14.380814364245"
        ],
        [
         "35",
         "2008-04-24 00:00:00",
         "3.8845",
         "16.9735869453872",
         "0.6893581234419551",
         "-7.816380044750988",
         "-2.164454354587346",
         "2.0",
         "-2.0",
         "1.0",
         "0.6893581234419551",
         "-1.0",
         "2008-04-11 00:00:00",
         "3.5995",
         "15.1862394038328"
        ],
        [
         "36",
         "2008-06-26 00:00:00",
         "3.815",
         "16.6877107739286",
         "0.6893581234419551",
         "-7.688808983657518",
         "2.4882528567294337",
         "2.0",
         "-2.0",
         "1.0",
         "0.6893581234419551",
         "1.0",
         "2008-05-23 00:00:00",
         "3.9175",
         "16.6603660966587"
        ],
        [
         "37",
         "2008-07-24 00:00:00",
         "3.936",
         "15.772907025261",
         "0.6893581234419551",
         "-6.937181588158355",
         "2.281846030547377",
         "2.0",
         "-2.0",
         "1.0",
         "0.6893581234419551",
         "1.0",
         "2008-07-01 00:00:00",
         "3.681",
         "17.4309888197211"
        ],
        [
         "38",
         "2008-08-21 00:00:00",
         "4.163",
         "13.2373096784105",
         "0.6893581234419551",
         "-4.962246959329093",
         "3.7632438673722133",
         "2.0",
         "-2.0",
         "1.0",
         "0.6893581234419551",
         "1.0",
         "2008-08-04 00:00:00",
         "3.7855",
         "16.1706477855513"
        ],
        [
         "39",
         "2008-09-29 00:00:00",
         "3.1675",
         "11.1267977691203",
         "0.6893581234419551",
         "-4.5028484300389024",
         "2.8507169500441467",
         "2.0",
         "-2.0",
         "1.0",
         "0.6893581234419551",
         "1.0",
         "2008-09-10 00:00:00",
         "3.837",
         "13.9432995279258"
        ],
        [
         "40",
         "2008-11-26 00:00:00",
         "2.198",
         "7.18170660299117",
         "0.6893581234419551",
         "-2.752767786948691",
         "-2.104978127272245",
         "2.0",
         "-2.0",
         "1.0",
         "0.6893581234419551",
         "-1.0",
         "2008-11-04 00:00:00",
         "2.9225",
         "7.83797885747012"
        ],
        [
         "41",
         "2008-12-08 00:00:00",
         "2.5705",
         "8.66080505532061",
         "0.6893581234419551",
         "-3.399896320432414",
         "-2.4161763524365574",
         "2.0",
         "-2.0",
         "1.0",
         "0.6893581234419551",
         "-1.0",
         "2008-12-04 00:00:00",
         "2.366",
         "7.12701724845126"
        ],
        [
         "42",
         "2009-01-13 00:00:00",
         "2.5725",
         "7.36566170462542",
         "0.6893581234419551",
         "-2.505078730608852",
         "2.3480345269399754",
         "2.0",
         "-2.0",
         "1.0",
         "0.6893581234419551",
         "1.0",
         "2008-12-15 00:00:00",
         "2.4425",
         "7.58441912278507"
        ],
        [
         "43",
         "2009-01-30 00:00:00",
         "2.941",
         "6.61492601957754",
         "0.6893581234419551",
         "-1.619052987563335",
         "2.1743811422326416",
         "2.0",
         "-2.0",
         "1.0",
         "0.6893581234419551",
         "1.0",
         "2009-01-28 00:00:00",
         "2.518",
         "7.30600059058188"
        ],
        [
         "44",
         "2009-03-09 00:00:00",
         "3.0245",
         "7.67888255335401",
         "0.6893581234419551",
         "-2.2690000671112895",
         "-2.2967487704884073",
         "2.0",
         "-2.0",
         "1.0",
         "0.6893581234419551",
         "-1.0",
         "2009-02-05 00:00:00",
         "3.159",
         "7.63662259757317"
        ],
        [
         "45",
         "2009-04-30 00:00:00",
         "4.026",
         "10.6420512175165",
         "0.6893581234419551",
         "-3.3101844568803482",
         "-2.167559106034879",
         "2.0",
         "-2.0",
         "1.0",
         "0.6893581234419551",
         "-1.0",
         "2009-03-25 00:00:00",
         "3.62",
         "8.48182171318999"
        ],
        [
         "46",
         "2009-05-22 00:00:00",
         "3.782",
         "8.98645530280827",
         "0.6893581234419551",
         "-2.4128859639389155",
         "2.4026359380632725",
         "2.0",
         "-2.0",
         "1.0",
         "0.6893581234419551",
         "1.0",
         "2009-05-12 00:00:00",
         "3.8965",
         "10.1597905456646"
        ],
        [
         "47",
         "2009-07-22 00:00:00",
         "4.4395",
         "10.5575313059548",
         "0.6893581234419551",
         "-2.838419969252695",
         "-2.0068462934005438",
         "2.0",
         "-2.0",
         "1.0",
         "0.6893581234419551",
         "-1.0",
         "2009-06-11 00:00:00",
         "4.2845",
         "10.341259767547"
        ],
        [
         "48",
         "2009-08-21 00:00:00",
         "4.25",
         "13.3417166279867",
         "0.6893581234419551",
         "-4.947220738163242",
         "-3.3388892723896646",
         "2.0",
         "-2.0",
         "1.0",
         "0.6893581234419551",
         "-1.0",
         "2009-08-18 00:00:00",
         "4.106",
         "11.0124473005368"
        ],
        [
         "49",
         "2009-10-26 00:00:00",
         "6.231995",
         "15.2682734356427",
         "0.6893581234419551",
         "-4.293313323793304",
         "2.277808167678503",
         "2.0",
         "-2.0",
         "1.0",
         "0.6893581234419551",
         "1.0",
         "2009-09-21 00:00:00",
         "4.528",
         "14.1894016233554"
        ]
       ],
       "shape": {
        "columns": 14,
        "rows": 188
       }
      },
      "text/html": [
       "<div>\n",
       "<style scoped>\n",
       "    .dataframe tbody tr th:only-of-type {\n",
       "        vertical-align: middle;\n",
       "    }\n",
       "\n",
       "    .dataframe tbody tr th {\n",
       "        vertical-align: top;\n",
       "    }\n",
       "\n",
       "    .dataframe thead th {\n",
       "        text-align: right;\n",
       "    }\n",
       "</style>\n",
       "<table border=\"1\" class=\"dataframe\">\n",
       "  <thead>\n",
       "    <tr style=\"text-align: right;\">\n",
       "      <th></th>\n",
       "      <th>Entry Timestamp</th>\n",
       "      <th>ent_1</th>\n",
       "      <th>ent_2</th>\n",
       "      <th>hedge_ratio</th>\n",
       "      <th>spread</th>\n",
       "      <th>z-score</th>\n",
       "      <th>long_thershold</th>\n",
       "      <th>short_therhold</th>\n",
       "      <th>size_1</th>\n",
       "      <th>size_2</th>\n",
       "      <th>position</th>\n",
       "      <th>Exit Timestamp</th>\n",
       "      <th>ext_1</th>\n",
       "      <th>ext_2</th>\n",
       "    </tr>\n",
       "  </thead>\n",
       "  <tbody>\n",
       "    <tr>\n",
       "      <th>0</th>\n",
       "      <td>2004-10-07</td>\n",
       "      <td>2.0575</td>\n",
       "      <td>4.598878</td>\n",
       "      <td>0.689358</td>\n",
       "      <td>-1.112774</td>\n",
       "      <td>-2.666380</td>\n",
       "      <td>2.0</td>\n",
       "      <td>-2.0</td>\n",
       "      <td>1.0</td>\n",
       "      <td>0.689358</td>\n",
       "      <td>-1.0</td>\n",
       "      <td>2004-07-23</td>\n",
       "      <td>1.9990</td>\n",
       "      <td>3.241587</td>\n",
       "    </tr>\n",
       "    <tr>\n",
       "      <th>1</th>\n",
       "      <td>2004-11-18</td>\n",
       "      <td>2.0185</td>\n",
       "      <td>4.429838</td>\n",
       "      <td>0.689358</td>\n",
       "      <td>-1.035245</td>\n",
       "      <td>2.042188</td>\n",
       "      <td>2.0</td>\n",
       "      <td>-2.0</td>\n",
       "      <td>1.0</td>\n",
       "      <td>0.689358</td>\n",
       "      <td>1.0</td>\n",
       "      <td>2004-11-09</td>\n",
       "      <td>1.8700</td>\n",
       "      <td>4.854923</td>\n",
       "    </tr>\n",
       "    <tr>\n",
       "      <th>2</th>\n",
       "      <td>2005-01-05</td>\n",
       "      <td>2.0885</td>\n",
       "      <td>4.462154</td>\n",
       "      <td>0.689358</td>\n",
       "      <td>-0.987522</td>\n",
       "      <td>-2.440983</td>\n",
       "      <td>2.0</td>\n",
       "      <td>-2.0</td>\n",
       "      <td>1.0</td>\n",
       "      <td>0.689358</td>\n",
       "      <td>-1.0</td>\n",
       "      <td>2004-12-22</td>\n",
       "      <td>1.9760</td>\n",
       "      <td>4.039555</td>\n",
       "    </tr>\n",
       "    <tr>\n",
       "      <th>3</th>\n",
       "      <td>2005-01-12</td>\n",
       "      <td>2.1150</td>\n",
       "      <td>3.753678</td>\n",
       "      <td>0.689358</td>\n",
       "      <td>-0.472629</td>\n",
       "      <td>2.432587</td>\n",
       "      <td>2.0</td>\n",
       "      <td>-2.0</td>\n",
       "      <td>1.0</td>\n",
       "      <td>0.689358</td>\n",
       "      <td>1.0</td>\n",
       "      <td>2005-01-10</td>\n",
       "      <td>2.0920</td>\n",
       "      <td>4.221024</td>\n",
       "    </tr>\n",
       "    <tr>\n",
       "      <th>4</th>\n",
       "      <td>2005-02-18</td>\n",
       "      <td>1.7655</td>\n",
       "      <td>3.964978</td>\n",
       "      <td>0.689358</td>\n",
       "      <td>-0.967790</td>\n",
       "      <td>-2.655088</td>\n",
       "      <td>2.0</td>\n",
       "      <td>-2.0</td>\n",
       "      <td>1.0</td>\n",
       "      <td>0.689358</td>\n",
       "      <td>-1.0</td>\n",
       "      <td>2005-02-03</td>\n",
       "      <td>1.7875</td>\n",
       "      <td>3.323621</td>\n",
       "    </tr>\n",
       "    <tr>\n",
       "      <th>...</th>\n",
       "      <td>...</td>\n",
       "      <td>...</td>\n",
       "      <td>...</td>\n",
       "      <td>...</td>\n",
       "      <td>...</td>\n",
       "      <td>...</td>\n",
       "      <td>...</td>\n",
       "      <td>...</td>\n",
       "      <td>...</td>\n",
       "      <td>...</td>\n",
       "      <td>...</td>\n",
       "      <td>...</td>\n",
       "      <td>...</td>\n",
       "      <td>...</td>\n",
       "    </tr>\n",
       "    <tr>\n",
       "      <th>183</th>\n",
       "      <td>2024-09-03</td>\n",
       "      <td>176.2500</td>\n",
       "      <td>247.374128</td>\n",
       "      <td>0.689358</td>\n",
       "      <td>5.720636</td>\n",
       "      <td>2.478763</td>\n",
       "      <td>2.0</td>\n",
       "      <td>-2.0</td>\n",
       "      <td>1.0</td>\n",
       "      <td>0.689358</td>\n",
       "      <td>1.0</td>\n",
       "      <td>2024-08-20</td>\n",
       "      <td>178.8800</td>\n",
       "      <td>261.116027</td>\n",
       "    </tr>\n",
       "    <tr>\n",
       "      <th>184</th>\n",
       "      <td>2024-10-02</td>\n",
       "      <td>184.7600</td>\n",
       "      <td>279.148892</td>\n",
       "      <td>0.689358</td>\n",
       "      <td>-7.673556</td>\n",
       "      <td>-2.389506</td>\n",
       "      <td>2.0</td>\n",
       "      <td>-2.0</td>\n",
       "      <td>1.0</td>\n",
       "      <td>0.689358</td>\n",
       "      <td>-1.0</td>\n",
       "      <td>2024-09-19</td>\n",
       "      <td>189.8700</td>\n",
       "      <td>265.674874</td>\n",
       "    </tr>\n",
       "    <tr>\n",
       "      <th>185</th>\n",
       "      <td>2024-11-01</td>\n",
       "      <td>197.9300</td>\n",
       "      <td>294.370837</td>\n",
       "      <td>0.689358</td>\n",
       "      <td>-4.996928</td>\n",
       "      <td>2.816199</td>\n",
       "      <td>2.0</td>\n",
       "      <td>-2.0</td>\n",
       "      <td>1.0</td>\n",
       "      <td>0.689358</td>\n",
       "      <td>1.0</td>\n",
       "      <td>2024-10-22</td>\n",
       "      <td>189.7000</td>\n",
       "      <td>287.988407</td>\n",
       "    </tr>\n",
       "    <tr>\n",
       "      <th>186</th>\n",
       "      <td>2025-01-21</td>\n",
       "      <td>230.7100</td>\n",
       "      <td>326.840000</td>\n",
       "      <td>0.689358</td>\n",
       "      <td>5.400191</td>\n",
       "      <td>2.014373</td>\n",
       "      <td>2.0</td>\n",
       "      <td>-2.0</td>\n",
       "      <td>1.0</td>\n",
       "      <td>0.689358</td>\n",
       "      <td>1.0</td>\n",
       "      <td>2024-11-27</td>\n",
       "      <td>205.7400</td>\n",
       "      <td>329.619028</td>\n",
       "    </tr>\n",
       "    <tr>\n",
       "      <th>187</th>\n",
       "      <td>2025-02-06</td>\n",
       "      <td>238.8300</td>\n",
       "      <td>330.810000</td>\n",
       "      <td>0.689358</td>\n",
       "      <td>10.783439</td>\n",
       "      <td>2.155480</td>\n",
       "      <td>2.0</td>\n",
       "      <td>-2.0</td>\n",
       "      <td>1.0</td>\n",
       "      <td>0.689358</td>\n",
       "      <td>1.0</td>\n",
       "      <td>2025-01-27</td>\n",
       "      <td>235.4200</td>\n",
       "      <td>347.100000</td>\n",
       "    </tr>\n",
       "  </tbody>\n",
       "</table>\n",
       "<p>188 rows × 14 columns</p>\n",
       "</div>"
      ],
      "text/plain": [
       "    Entry Timestamp     ent_1       ent_2  hedge_ratio     spread   z-score  \\\n",
       "0        2004-10-07    2.0575    4.598878     0.689358  -1.112774 -2.666380   \n",
       "1        2004-11-18    2.0185    4.429838     0.689358  -1.035245  2.042188   \n",
       "2        2005-01-05    2.0885    4.462154     0.689358  -0.987522 -2.440983   \n",
       "3        2005-01-12    2.1150    3.753678     0.689358  -0.472629  2.432587   \n",
       "4        2005-02-18    1.7655    3.964978     0.689358  -0.967790 -2.655088   \n",
       "..              ...       ...         ...          ...        ...       ...   \n",
       "183      2024-09-03  176.2500  247.374128     0.689358   5.720636  2.478763   \n",
       "184      2024-10-02  184.7600  279.148892     0.689358  -7.673556 -2.389506   \n",
       "185      2024-11-01  197.9300  294.370837     0.689358  -4.996928  2.816199   \n",
       "186      2025-01-21  230.7100  326.840000     0.689358   5.400191  2.014373   \n",
       "187      2025-02-06  238.8300  330.810000     0.689358  10.783439  2.155480   \n",
       "\n",
       "     long_thershold  short_therhold  size_1    size_2  position  \\\n",
       "0               2.0            -2.0     1.0  0.689358      -1.0   \n",
       "1               2.0            -2.0     1.0  0.689358       1.0   \n",
       "2               2.0            -2.0     1.0  0.689358      -1.0   \n",
       "3               2.0            -2.0     1.0  0.689358       1.0   \n",
       "4               2.0            -2.0     1.0  0.689358      -1.0   \n",
       "..              ...             ...     ...       ...       ...   \n",
       "183             2.0            -2.0     1.0  0.689358       1.0   \n",
       "184             2.0            -2.0     1.0  0.689358      -1.0   \n",
       "185             2.0            -2.0     1.0  0.689358       1.0   \n",
       "186             2.0            -2.0     1.0  0.689358       1.0   \n",
       "187             2.0            -2.0     1.0  0.689358       1.0   \n",
       "\n",
       "    Exit Timestamp     ext_1       ext_2  \n",
       "0       2004-07-23    1.9990    3.241587  \n",
       "1       2004-11-09    1.8700    4.854923  \n",
       "2       2004-12-22    1.9760    4.039555  \n",
       "3       2005-01-10    2.0920    4.221024  \n",
       "4       2005-02-03    1.7875    3.323621  \n",
       "..             ...       ...         ...  \n",
       "183     2024-08-20  178.8800  261.116027  \n",
       "184     2024-09-19  189.8700  265.674874  \n",
       "185     2024-10-22  189.7000  287.988407  \n",
       "186     2024-11-27  205.7400  329.619028  \n",
       "187     2025-01-27  235.4200  347.100000  \n",
       "\n",
       "[188 rows x 14 columns]"
      ]
     },
     "execution_count": 13,
     "metadata": {},
     "output_type": "execute_result"
    }
   ],
   "source": [
    "df = pd.concat( [   b_df[b_df['action'] == True].reset_index().drop( 'action' , axis = 1 ) , b_df[b_df['action'] == False].reset_index().drop( ['action','position', 'Hedge_Ratio' , 'spread' , 'z_score' , 'long_threshold' , 'short_threshold' , 'size_1' , 'size_2' ] , axis = 1 )   ]  , axis = 1 , ignore_index=False  ).dropna()\n",
    "df.columns =  [ 'Entry Timestamp','ent_1' , 'ent_2' , 'hedge_ratio' , 'spread' , 'z-score' , 'long_thershold' , 'short_therhold' , 'size_1' , 'size_2' ,'position' , 'Exit Timestamp' , 'ext_1' , 'ext_2'  ]\n",
    "df"
   ]
  },
  {
   "cell_type": "code",
   "execution_count": 14,
   "metadata": {},
   "outputs": [],
   "source": [
    "# #balance based\n",
    "df = df.reset_index(drop = True)\n",
    "init_bal = 1000\n",
    "df['balance'] = init_bal\n",
    "for col in df.columns:\n",
    "    if not np.issubdtype(df[col].dtype, np.datetime64):  # Check if column is not datetime\n",
    "        df[col] = df[col].astype(float)\n",
    "\n",
    "for i in df.index :\n",
    "    if i > 0 :\n",
    "        \n",
    "        df.loc[i,'size_1'] =  df.loc[ i-1, 'balance' ]/df.loc[ i , 'ent_1' ]\n",
    "        df.loc[i,'size_2'] = df.loc[i,'size_1']* df.loc[ i , 'hedge_ratio' ]#df.loc[ i -1 , 'balance' ]/df.loc[ i , 'ent_2' ] \n",
    "\n",
    "        if (df.loc[ i , 'position' ] == -1)  :\n",
    "\n",
    "            pnl = ( df.loc[i,'ext_1'] - df.loc[ i , 'ent_1' ]  ) * df.loc[i,'size_1']  + ( df.loc[ i ,  'ent_2' ] - df.loc[ i   , 'ext_2' ] ) * df.loc[i,'size_2'] #Long 1 and Short 2\n",
    "\n",
    "            df.loc[ i , 'fee' ] = 0.25 * df.loc[i,'size_1'] * 2\n",
    "            df.loc[ i , 'pnl' ] = pnl - df.loc[ i , 'fee' ]\n",
    "            df.loc[ i , 'balance' ] = df.loc[ i , 'pnl' ] + df.loc[ i-1 , 'balance' ]\n",
    "            df.loc[ i , 'return' ] = df.loc[ i , 'pnl' ]/df.loc[ i-1 , 'balance' ]\n",
    "            \n",
    "            # pnls.append( pnl )\n",
    "\n",
    "        elif (df.loc[ i , 'position' ] == 1)  :\n",
    "\n",
    "            pnl = ( df.loc[i,'ent_1'] - df.loc[ i , 'ext_1' ]  ) *  df.loc[i,'size_1']  + ( df.loc[ i ,  'ext_2' ] - df.loc[ i   , 'ent_2' ] ) *  df.loc[i,'size_2'] #Short 1 and Long 2\n",
    "            df.loc[ i , 'fee' ] = 0.25 * df.loc[i,'size_1'] * 2\n",
    "            df.loc[ i , 'pnl' ] = pnl - df.loc[ i , 'fee' ]\n",
    "            df.loc[ i , 'balance' ] = df.loc[ i , 'pnl' ] + df.loc[ i-1 , 'balance' ]\n",
    "            df.loc[ i , 'return' ] = df.loc[ i , 'pnl' ]/df.loc[ i-1 , 'balance' ]\n",
    "\n",
    "\n",
    "    else:\n",
    "\n",
    "        df.loc[i,'size_1'] = init_bal/df.loc[ i , 'ent_1' ]\n",
    "        df.loc[i,'size_2'] =  df.loc[i,'size_1']* df.loc[ i , 'hedge_ratio' ]#init_bal/df.loc[ i , 'ent_2' ] * df.loc[ i , 'hedge_ratio' ]\n",
    "\n",
    "        \n",
    "        if (df.loc[ i , 'position' ] == -1)  :\n",
    "\n",
    "            pnl = ( df.loc[i,'ext_1'] - df.loc[ i , 'ent_1' ]  ) * df.loc[i,'size_1']  + ( df.loc[ i ,  'ent_2' ] - df.loc[ i   , 'ext_2' ] ) * df.loc[i,'size_2']\n",
    "            df.loc[ i , 'fee' ] = 0.25 * df.loc[i,'size_1'] * 2\n",
    "            df.loc[ i , 'pnl' ] = pnl - df.loc[ i , 'fee' ]\n",
    "            df.loc[ i , 'balance' ] = df.loc[ i , 'pnl' ] + init_bal\n",
    "            df.loc[ i , 'return' ] = df.loc[ i , 'pnl' ]/init_bal\n",
    "\n",
    "\n",
    "        elif (df.loc[ i , 'position' ] == 1)  :\n",
    "\n",
    "            pnl = ( df.loc[i,'ent_1'] - df.loc[ i , 'ext_1' ]  ) *  df.loc[i,'size_1']  + ( df.loc[ i ,  'ext_2' ] - df.loc[ i   , 'ent_2' ] ) *  df.loc[i,'size_2']\n",
    "            df.loc[ i , 'fee' ] = 0.25 * df.loc[i,'size_1'] * 2\n",
    "            df.loc[ i , 'pnl' ] = pnl - df.loc[ i , 'fee' ]\n",
    "            df.loc[ i , 'balance' ] = df.loc[ i , 'pnl' ] + init_bal\n",
    "            df.loc[ i , 'return' ] = df.loc[ i , 'pnl' ]/init_bal"
   ]
  },
  {
   "cell_type": "code",
   "execution_count": 15,
   "metadata": {},
   "outputs": [
    {
     "data": {
      "text/plain": [
       "[<matplotlib.lines.Line2D at 0x1440a4857f0>]"
      ]
     },
     "execution_count": 15,
     "metadata": {},
     "output_type": "execute_result"
    },
    {
     "data": {
      "image/png": "[encoded data removed]",
      "text/plain": [
       "<Figure size 640x480 with 1 Axes>"
      ]
     },
     "metadata": {},
     "output_type": "display_data"
    }
   ],
   "source": [
    "df['log_ret'] = np.log( df['balance'] / init_bal )\n",
    "df['log_ret'] = np.log( df['balance'] / df['balance'].shift() )\n",
    "plt.plot( df['log_ret'] )"
   ]
  },
  {
   "cell_type": "code",
   "execution_count": 16,
   "metadata": {},
   "outputs": [
    {
     "data": {
      "text/plain": [
       "<matplotlib.lines.Line2D at 0x14407435250>"
      ]
     },
     "execution_count": 16,
     "metadata": {},
     "output_type": "execute_result"
    },
    {
     "data": {
      "image/png": "[encoded data removed]",
      "text/plain": [
       "<Figure size 500x500 with 1 Axes>"
      ]
     },
     "metadata": {},
     "output_type": "display_data"
    }
   ],
   "source": [
    "sns.displot(df['log_ret'], kind = 'hist' )\n",
    "plt.axvline( x = 0 , color = 'red')"
   ]
  },
  {
   "cell_type": "code",
   "execution_count": 17,
   "metadata": {},
   "outputs": [
    {
     "data": {
      "text/plain": [
       "count    187.000000\n",
       "mean       6.713902\n",
       "std       10.436903\n",
       "min      -20.714080\n",
       "25%        2.383871\n",
       "50%        5.751749\n",
       "75%       10.828476\n",
       "max       63.727593\n",
       "Name: log_ret, dtype: float64"
      ]
     },
     "execution_count": 17,
     "metadata": {},
     "output_type": "execute_result"
    }
   ],
   "source": [
    "(df['log_ret']*100).describe()"
   ]
  },
  {
   "cell_type": "code",
   "execution_count": 18,
   "metadata": {},
   "outputs": [
    {
     "data": {
      "text/plain": [
       "[<matplotlib.lines.Line2D at 0x1440b737410>]"
      ]
     },
     "execution_count": 18,
     "metadata": {},
     "output_type": "execute_result"
    },
    {
     "data": {
      "image/png": "[encoded data removed]",
      "text/plain": [
       "<Figure size 640x480 with 1 Axes>"
      ]
     },
     "metadata": {},
     "output_type": "display_data"
    }
   ],
   "source": [
    "plt.plot( df.set_index('Entry Timestamp')['log_ret'].cumsum() )"
   ]
  },
  {
   "cell_type": "code",
   "execution_count": 19,
   "metadata": {},
   "outputs": [
    {
     "data": {
      "text/plain": [
       "0.8457446808510638"
      ]
     },
     "execution_count": 19,
     "metadata": {},
     "output_type": "execute_result"
    }
   ],
   "source": [
    "win_rate = (pd.Series(df['log_ret']) > 0).mean()\n",
    "win_rate"
   ]
  },
  {
   "cell_type": "code",
   "execution_count": 20,
   "metadata": {},
   "outputs": [
    {
     "data": {
      "text/plain": [
       "1785106.1438739419"
      ]
     },
     "execution_count": 20,
     "metadata": {},
     "output_type": "execute_result"
    }
   ],
   "source": [
    "expectancy = ( win_rate * df[ df['pnl'] >0  ]['pnl'].mean() ) - ( (1-win_rate) * df[ df['pnl'] <0  ]['pnl'].mean() )\n",
    "expectancy"
   ]
  },
  {
   "cell_type": "code",
   "execution_count": 21,
   "metadata": {},
   "outputs": [
    {
     "data": {
      "text/plain": [
       "57.06816398669045"
      ]
     },
     "execution_count": 21,
     "metadata": {},
     "output_type": "execute_result"
    }
   ],
   "source": [
    "(df.groupby( by = pd.to_datetime(df['Entry Timestamp']).dt.year )['log_ret'].sum( ) * 100).mean( )\n"
   ]
  },
  {
   "cell_type": "code",
   "execution_count": 22,
   "metadata": {},
   "outputs": [
    {
     "data": {
      "text/plain": [
       "7.563250648838493"
      ]
     },
     "execution_count": 22,
     "metadata": {},
     "output_type": "execute_result"
    }
   ],
   "source": [
    "(   df.groupby(by =  pd.to_datetime(df['Entry Timestamp']).dt.to_period(\"M\") )['log_ret'].sum( ) * 100  ).mean( )"
   ]
  }
 ],
 "metadata": {
  "kernelspec": {
   "display_name": "base",
   "language": "python",
   "name": "python3"
  },
  "language_info": {
   "codemirror_mode": {
    "name": "ipython",
    "version": 3
   },
   "file_extension": ".py",
   "mimetype": "text/x-python",
   "name": "python",
   "nbconvert_exporter": "python",
   "pygments_lexer": "ipython3",
   "version": "3.12.4"
  }
 },
 "nbformat": 4,
 "nbformat_minor": 2
}
